{
 "cells": [
  {
   "cell_type": "markdown",
   "metadata": {},
   "source": [
    "# Imports"
   ]
  },
  {
   "cell_type": "code",
   "execution_count": 1,
   "metadata": {},
   "outputs": [],
   "source": [
    "from src.bs_closed_form import *\n",
    "from src.longstaff_schwartz import *\n"
   ]
  },
  {
   "cell_type": "markdown",
   "metadata": {},
   "source": [
    "# 1. Longstaff Schwartz Pricing Method"
   ]
  },
  {
   "cell_type": "markdown",
   "metadata": {},
   "source": [
    "## 1. Description \n",
    "\n",
    "The intuition behind this method is that at any point in the exercise, the buyer of an American option dynamically compares the payoff from the immediate exercise with the expected payoff from continuing, and then exercises if the immediate payoff is higher.\n",
    "Thus, the optimal exercise is fundamentally determined by the conditional expectation of continuing to hold that option. The key idea behind our approach is that this conditional expectation can be estimated using least squares. Specifically, we regress the posterior gains on the price of the underlying at t-1. The fitted value of this regression provides a direct estimate of the conditional expectation function. By estimating the conditional expectation function for each exercise date, we obtain the value of the American option.\n",
    "\n",
    "\n",
    "The regression is done using a polynomial of degree 2 only on the in-the money values.\n",
    "\n",
    "The choice of the optimal path is made by comparing the exercise gain (estimated using linear regression) and the payoff of the continuation.\n",
    "\n",
    "![title](img/choix.PNG)"
   ]
  },
  {
   "cell_type": "markdown",
   "metadata": {},
   "source": [
    "## 2. Use case"
   ]
  },
  {
   "cell_type": "code",
   "execution_count": 2,
   "metadata": {},
   "outputs": [
    {
     "name": "stdout",
     "output_type": "stream",
     "text": [
      "Call price :\n",
      "7.113406298141674\n",
      "Put price :\n",
      "4.78909665131522\n"
     ]
    }
   ],
   "source": [
    "K = 50\n",
    "S = int(50)\n",
    "n = 1000\n",
    "sigma = 0.3\n",
    "r = 0.05\n",
    "T = 1\n",
    "scenarios = 1000\n",
    "\n",
    "\n",
    "print('Call price :')\n",
    "call = True\n",
    "print(longstaff_schwartz_pricer(S, n, sigma, r, T, K, scenarios, call))\n",
    "\n",
    "print('Put price :')\n",
    "call = False\n",
    "print(longstaff_schwartz_pricer(S, n, sigma, r, T, K, scenarios, call))\n"
   ]
  },
  {
   "cell_type": "markdown",
   "metadata": {},
   "source": [
    "# 2. Bjerksund & Stensland approximation\n",
    "## 1. Fomulation :\n",
    "![title](img/formulation.PNG)\n",
    "\n",
    "b is the cost of carry \n",
    "## 2. Put - Call\n",
    "![title](img/put_call.PNG)"
   ]
  },
  {
   "cell_type": "markdown",
   "metadata": {},
   "source": [
    "## 3. Use case"
   ]
  },
  {
   "cell_type": "markdown",
   "metadata": {},
   "source": [
    "![title](img/test.png)"
   ]
  },
  {
   "cell_type": "code",
   "execution_count": 3,
   "metadata": {},
   "outputs": [
    {
     "name": "stdout",
     "output_type": "stream",
     "text": [
      "Call price\n",
      "3.500267403291197\n",
      "Put price\n",
      "4.396422828327907\n"
     ]
    }
   ],
   "source": [
    "K = 100\n",
    "S = 100\n",
    "sigma = 0.2\n",
    "r = 0.08\n",
    "T = 0.25\n",
    "b = -0.04\n",
    "\n",
    "\n",
    "call = True\n",
    "print('Call price')\n",
    "print(bs_american_closed_form_pricer(S, K, T, r, b, sigma, call))\n",
    "\n",
    "call = False\n",
    "print('Put price')\n",
    "print(bs_american_closed_form_pricer(S, K, T, r, b, sigma, call))\n"
   ]
  },
  {
   "cell_type": "code",
   "execution_count": null,
   "metadata": {},
   "outputs": [],
   "source": []
  }
 ],
 "metadata": {
  "kernelspec": {
   "display_name": "Python 3.8.10 64-bit",
   "language": "python",
   "name": "python3"
  },
  "language_info": {
   "codemirror_mode": {
    "name": "ipython",
    "version": 3
   },
   "file_extension": ".py",
   "mimetype": "text/x-python",
   "name": "python",
   "nbconvert_exporter": "python",
   "pygments_lexer": "ipython3",
   "version": "3.8.10"
  },
  "vscode": {
   "interpreter": {
    "hash": "31f2aee4e71d21fbe5cf8b01ff0e069b9275f58929596ceb00d14d90e3e16cd6"
   }
  }
 },
 "nbformat": 4,
 "nbformat_minor": 2
}
